{
 "cells": [
  {
   "cell_type": "code",
   "execution_count": 1,
   "metadata": {},
   "outputs": [
    {
     "name": "stdout",
     "output_type": "stream",
     "text": [
      "true\n"
     ]
    }
   ],
   "source": [
    "import cohere, ast, re, os\n",
    "from system_prompts.what_prompt_v4 import what_prompt\n",
    "from data_cleaning import clean_text\n",
    "\n",
    "website_text = \"\"\n",
    "with open(\"./data/accounting.txt\", 'r', encoding='utf-8') as file:\n",
    "    website_text = file.read()\n",
    "\n",
    "co = cohere.ClientV2(\"WRITE THE API KEY HERE\")\n",
    "response = co.chat(\n",
    "    model=\"command-r-plus\", \n",
    "    messages=[{\"role\": \"system\", \"content\": what_prompt},\n",
    "              {\"role\": \"user\", \"content\": \"I want to study book keeping.\"},\n",
    "              {\"role\": \"user\", \"content\": website_text}]\n",
    "\n",
    ")\n",
    "\n",
    "print(clean_text(response.message.content[0].text))"
   ]
  }
 ],
 "metadata": {
  "kernelspec": {
   "display_name": "Python 3",
   "language": "python",
   "name": "python3"
  },
  "language_info": {
   "codemirror_mode": {
    "name": "ipython",
    "version": 3
   },
   "file_extension": ".py",
   "mimetype": "text/x-python",
   "name": "python",
   "nbconvert_exporter": "python",
   "pygments_lexer": "ipython3",
   "version": "3.8.10"
  }
 },
 "nbformat": 4,
 "nbformat_minor": 2
}
