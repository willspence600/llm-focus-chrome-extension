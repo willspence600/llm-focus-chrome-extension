{
 "cells": [
  {
   "cell_type": "code",
   "execution_count": 3,
   "metadata": {},
   "outputs": [
    {
     "name": "stdout",
     "output_type": "stream",
     "text": [
      "TRUE\n"
     ]
    }
   ],
   "source": [
    "import cohere, ast, re, os\n",
    "from system_prompts.what_prompt_v1 import what_prompt\n",
    "\n",
    "website_text = \"\"\n",
    "with open(\"./data/cooking.txt\", 'r', encoding='utf-8') as file:\n",
    "    website_text = file.read()\n",
    "\n",
    "co = cohere.ClientV2(\"85pa1ijYVknf5xRslpLJ5lB0sBCUXmDyyEPSoQKn\")\n",
    "response = co.chat(\n",
    "    model=\"command-r-plus\", \n",
    "    messages=[{\"role\": \"system\", \"content\": what_prompt},\n",
    "              {\"role\": \"user\", \"content\": \"I want to study cooking.\"},\n",
    "              {\"role\": \"user\", \"content\": website_text}]\n",
    "\n",
    ")\n",
    "\n",
    "print(response.message.content[0].text)"
   ]
  }
 ],
 "metadata": {
  "kernelspec": {
   "display_name": "Python 3",
   "language": "python",
   "name": "python3"
  },
  "language_info": {
   "codemirror_mode": {
    "name": "ipython",
    "version": 3
   },
   "file_extension": ".py",
   "mimetype": "text/x-python",
   "name": "python",
   "nbconvert_exporter": "python",
   "pygments_lexer": "ipython3",
   "version": "3.13.1"
  }
 },
 "nbformat": 4,
 "nbformat_minor": 2
}
